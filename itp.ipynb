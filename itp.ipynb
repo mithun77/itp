{
 "cells": [
  {
   "cell_type": "markdown",
   "metadata": {},
   "source": [
    "# INTRODUCTION TO PYTHON FINAL EXAM"
   ]
  },
  {
   "cell_type": "markdown",
   "metadata": {},
   "source": [
    "# SECTION A: 20 MARKS"
   ]
  },
  {
   "cell_type": "markdown",
   "metadata": {},
   "source": [
    " _________________"
   ]
  },
  {
   "cell_type": "markdown",
   "metadata": {},
   "source": [
    "### 1. The acre is a unit used to measure land in the imperial and US customary systems. One acre of land is equal to 43,560 square feet.  (5 Marks)\n",
    "\n",
    "Write a python program that accepts the measure of land in square feet and returns the measure in acres.\n",
    "\n",
    "\n",
    "Sample Input: 875687\n",
    "\n",
    "Sample Output: 20.10"
   ]
  },
  {
   "cell_type": "code",
   "execution_count": 223,
   "metadata": {},
   "outputs": [
    {
     "name": "stdout",
     "output_type": "stream",
     "text": [
      "Enter the measure of land in square feet :875687\n",
      "875687.00 feet of land is equivalent to 20.10 acres\n"
     ]
    }
   ],
   "source": [
    "one_acre = 43560\n",
    "feet = float(input('Enter the measure of land in square feet :'))\n",
    "acres = feet / one_acre\n",
    "print('%0.2f feet of land is equivalent to %0.2f acres'%(feet,acres))"
   ]
  },
  {
   "cell_type": "code",
   "execution_count": null,
   "metadata": {},
   "outputs": [],
   "source": []
  },
  {
   "cell_type": "markdown",
   "metadata": {},
   "source": [
    "### 2. Fibonacci Series is computed based on the following formula:                                          (5 marks)\n",
    "\n",
    "f(n)=0 if n=0\n",
    "\n",
    "f(n)=1 if n=1\n",
    "\n",
    "f(n)=f(n-1)+f(n-2) if n>1\n",
    "\n",
    "Write a program using list comprehension to print the Fibonacci Sequence in the comma-separated form with a given n input by \n",
    "\n",
    "user input.\n",
    "\n",
    "Sample input: 5\n",
    "\n",
    "Output:  \t0,1,1,2,\n"
   ]
  },
  {
   "cell_type": "code",
   "execution_count": 226,
   "metadata": {},
   "outputs": [
    {
     "name": "stdout",
     "output_type": "stream",
     "text": [
      "Enter the range upto which fibonacci series need to be found : 5\n",
      "The fibonacci series is :  [0, 1, 1, 2]\n"
     ]
    }
   ],
   "source": [
    "inp = int(input('Enter the range upto which fibonacci series need to be found : '))\n",
    "\n",
    "fibo = [0,1]\n",
    "[fibo.append(fibo[-2] + fibo[-1]) for i in range(2,inp-1)]\n",
    "print('The fibonacci series is : ', fibo)"
   ]
  },
  {
   "cell_type": "code",
   "execution_count": null,
   "metadata": {},
   "outputs": [],
   "source": []
  },
  {
   "cell_type": "markdown",
   "metadata": {
    "colab_type": "text",
    "id": "S3SRojUJ4Wmv"
   },
   "source": [
    "### 3.Professor told the student that Today is Thursday. what day of the week will it be in 46 days of time from today (Thursday)? (5 marks)"
   ]
  },
  {
   "cell_type": "code",
   "execution_count": 227,
   "metadata": {},
   "outputs": [
    {
     "name": "stdout",
     "output_type": "stream",
     "text": [
      "Today is Thursday\n",
      "Enter the number of days of time from today, you want to find what day it is : 46\n",
      "46 days from today (thursday) is \n",
      "Monday\n"
     ]
    }
   ],
   "source": [
    "print('Today is Thursday')\n",
    "today = 'Thursday'\n",
    "days = int(input('Enter the number of days of time from today, you want to find what day it is : '))\n",
    "rem = days%7\n",
    "\n",
    "print(\"%d days from today (thursday) is \"%days)\n",
    "if rem == 0:\n",
    "    print('Thursday')\n",
    "elif rem == 1:\n",
    "    print('Friday')\n",
    "elif rem == 2:\n",
    "    print('Saturday')\n",
    "elif rem == 3:\n",
    "    print('Sunday')\n",
    "elif rem == 4:\n",
    "    print('Monday')\n",
    "elif rem == 5:\n",
    "    print('Tuesday')\n",
    "else:\n",
    "    print('Wednesday')"
   ]
  },
  {
   "cell_type": "code",
   "execution_count": null,
   "metadata": {},
   "outputs": [],
   "source": []
  },
  {
   "cell_type": "markdown",
   "metadata": {
    "colab_type": "text",
    "id": "2z169KcQ4Wnp"
   },
   "source": [
    "### 4. Given a string s find the number of white spaces in the given strings.(5 marks)\n",
    "  \n",
    " Input Format\n",
    " \n",
    " Take Input String S\n",
    " \n",
    " Output Format\n",
    " \n",
    " Number Of White Spaces In S\n",
    " \n",
    " Constraints\n",
    " 0 < S < 100001\n",
    "  \n",
    " \n",
    " SAMPLE INPUT\n",
    " \n",
    " Hello World\n",
    "  \n",
    " SAMPLE OUTPUT: 1"
   ]
  },
  {
   "cell_type": "code",
   "execution_count": 235,
   "metadata": {},
   "outputs": [
    {
     "name": "stdout",
     "output_type": "stream",
     "text": [
      "Enter your string : Hello world\n",
      "The number of whitespaces in string \"Hello world\" is 1\n"
     ]
    }
   ],
   "source": [
    "string = str(input('Enter your string : '))\n",
    "print('The number of whitespaces in string \"%s\" is %d'%(string, string.strip().count(' ')))"
   ]
  },
  {
   "cell_type": "code",
   "execution_count": null,
   "metadata": {},
   "outputs": [],
   "source": []
  },
  {
   "cell_type": "markdown",
   "metadata": {},
   "source": [
    "# SECTION B: 20 MARKS"
   ]
  },
  {
   "cell_type": "markdown",
   "metadata": {},
   "source": [
    "---------------------"
   ]
  },
  {
   "cell_type": "markdown",
   "metadata": {},
   "source": [
    "### 5 .Write a code to i) extract name elements alone, ii) multiply the number element by 6.07, iii) check whether the name element is carbon (use map). (10 Marks)\n",
    "d=[{'name':'hydrogen','number':1,'weight':1.0},{'name':'carbon','number':2,'weight':4.002}]"
   ]
  },
  {
   "cell_type": "code",
   "execution_count": 236,
   "metadata": {},
   "outputs": [],
   "source": [
    "d=[{'name':'hydrogen','number':1,'weight':1.0},{'name':'carbon','number':2,'weight':4.002}]"
   ]
  },
  {
   "cell_type": "code",
   "execution_count": 237,
   "metadata": {},
   "outputs": [
    {
     "data": {
      "text/plain": [
       "[{'name': 'hydrogen', 'number': 1, 'weight': 1.0},\n",
       " {'name': 'carbon', 'number': 2, 'weight': 4.002}]"
      ]
     },
     "execution_count": 237,
     "metadata": {},
     "output_type": "execute_result"
    }
   ],
   "source": [
    "d"
   ]
  },
  {
   "cell_type": "markdown",
   "metadata": {},
   "source": [
    "i)  extract name elements alone"
   ]
  },
  {
   "cell_type": "code",
   "execution_count": 238,
   "metadata": {},
   "outputs": [
    {
     "name": "stdout",
     "output_type": "stream",
     "text": [
      "Names of elements in dictionary d are :-\n",
      "hydrogen\n",
      "carbon\n"
     ]
    }
   ],
   "source": [
    "print('Names of elements in dictionary d are :-')\n",
    "for items in d:\n",
    "    print(items['name'])"
   ]
  },
  {
   "cell_type": "markdown",
   "metadata": {},
   "source": [
    " ii) multiply the number element by 6.07"
   ]
  },
  {
   "cell_type": "code",
   "execution_count": 239,
   "metadata": {},
   "outputs": [
    {
     "name": "stdout",
     "output_type": "stream",
     "text": [
      "Numbers in dictionary d are :-\n",
      "1\n",
      "2\n"
     ]
    }
   ],
   "source": [
    "print('Numbers in dictionary d are :-')\n",
    "for items in d:\n",
    "    print(items['number'])"
   ]
  },
  {
   "cell_type": "code",
   "execution_count": 240,
   "metadata": {},
   "outputs": [],
   "source": [
    "for items in d:\n",
    "    items['number'] = items['number']*6.07"
   ]
  },
  {
   "cell_type": "code",
   "execution_count": 241,
   "metadata": {},
   "outputs": [
    {
     "name": "stdout",
     "output_type": "stream",
     "text": [
      "Numbers in dictionary d after multiplying it by 6.07 :-\n",
      "6.07\n",
      "12.14\n"
     ]
    }
   ],
   "source": [
    "print('Numbers in dictionary d after multiplying it by 6.07 :-')\n",
    "for items in d:\n",
    "    print(items['number'])"
   ]
  },
  {
   "cell_type": "markdown",
   "metadata": {},
   "source": [
    "iii) check whether the name element is carbon"
   ]
  },
  {
   "cell_type": "code",
   "execution_count": 245,
   "metadata": {},
   "outputs": [
    {
     "name": "stdout",
     "output_type": "stream",
     "text": [
      "Element Carbon is present\n"
     ]
    }
   ],
   "source": [
    "is_carbon = lambda x: True if x['name']=='carbon' else False \n",
    "\n",
    "# defining a lambda function to return True if arg passed is carbon.\n",
    "\n",
    "list_of_map = list(map(is_carbon,d))\n",
    "\n",
    "if True in list_of_map:\n",
    "    print('Element Carbon is present')\n",
    "else:\n",
    "    print('Element carbon is not found')"
   ]
  },
  {
   "cell_type": "code",
   "execution_count": null,
   "metadata": {},
   "outputs": [],
   "source": []
  },
  {
   "cell_type": "markdown",
   "metadata": {},
   "source": [
    "### 6.Python program which accepts 4 digit binary numbers input = 0100,0011,1010,1001. Convert them in to decimal numbers and check whether it will check divisible by 5 ?  (10 Marks)\n"
   ]
  },
  {
   "cell_type": "code",
   "execution_count": 250,
   "metadata": {},
   "outputs": [
    {
     "name": "stdout",
     "output_type": "stream",
     "text": [
      "Enter the number of binary numbers need to be entered : 4\n",
      "\n",
      "Enter the binary numbers :- \n",
      "0100\n",
      "0011\n",
      "1010\n",
      "1001\n",
      "\n",
      "\n",
      "The equivalent decimal value for the given binary input ['0100', '0011', '1010', '1001']  are : [4, 3, 10, 9]\n",
      "\n",
      "4 is NOT divisble by 5\n",
      "3 is NOT divisble by 5\n",
      "10 is divisble by 5\n",
      "9 is NOT divisble by 5\n"
     ]
    }
   ],
   "source": [
    "count = int(input('Enter the number of binary numbers need to be entered : '))\n",
    "\n",
    "print()\n",
    "\n",
    "print('Enter the binary numbers :- ')\n",
    "binary_input = []\n",
    "for n in range(count):\n",
    "    n = str(input())\n",
    "    binary_input.append(n)\n",
    "\n",
    "print()\n",
    "\n",
    "ans = []\n",
    "for i in binary_input:\n",
    "    i_r = i[::-1]\n",
    "    sum = 0\n",
    "    for j in range(len(i_r)):\n",
    "        sum = sum + (int(pow(2,j)) * int(i_r[j])) \n",
    "    ans.append(sum)\n",
    "    \n",
    "print()\n",
    "print('The equivalent decimal value for the given binary input', binary_input,' are :', ans)\n",
    "print()\n",
    "\n",
    "for a in ans:\n",
    "    if a%5==0:\n",
    "        print('%d is divisble by 5'%a)\n",
    "    else:\n",
    "        print('%d is NOT divisble by 5'%a)"
   ]
  },
  {
   "cell_type": "code",
   "execution_count": null,
   "metadata": {},
   "outputs": [],
   "source": []
  },
  {
   "cell_type": "markdown",
   "metadata": {},
   "source": [
    "# SECTION C: 30 MARKS"
   ]
  },
  {
   "cell_type": "markdown",
   "metadata": {},
   "source": [
    " _________________"
   ]
  },
  {
   "cell_type": "markdown",
   "metadata": {},
   "source": [
    "### 7 .Write a Python Program to swap the first and last elements in the list? (10 Marks)\n",
    "\n",
    "    A. Get the input count of \"number of elements in a list\"\n",
    "    B. Get the input of the elements one by one and create a list\n",
    "    C. Create a program to swap the first and last elements in the list\n",
    "    D. Display the results of the list before and after"
   ]
  },
  {
   "cell_type": "code",
   "execution_count": null,
   "metadata": {},
   "outputs": [],
   "source": []
  },
  {
   "cell_type": "code",
   "execution_count": 252,
   "metadata": {},
   "outputs": [
    {
     "name": "stdout",
     "output_type": "stream",
     "text": [
      "Enter the count of number of elements in a list : 5\n",
      "Enter the values into the list :\n",
      "Great\n",
      "Lakes\n",
      "Institue\n",
      "of    \n",
      "Management   \n",
      "\n",
      "Initial list (before swapping first and last element)  :- \n",
      "['Great', 'Lakes', 'Institue', 'of', 'Management']\n",
      "\n",
      "Final list (after swapping first and last element)  :- \n",
      "['Management', 'Lakes', 'Institue', 'of', 'Great']\n"
     ]
    }
   ],
   "source": [
    "count = int(input('Enter the count of number of elements in a list : '))\n",
    "\n",
    "i = 0\n",
    "values = []\n",
    "print('Enter the values into the list :')\n",
    "while(i < count):    \n",
    "    val = str(input(''))\n",
    "    values.append(val.strip())\n",
    "    i+=1\n",
    "\n",
    "print()\n",
    "print('Initial list (before swapping first and last element)  :- ')\n",
    "print(values)\n",
    "\n",
    "print()\n",
    "values[0], values[i-1] = values[i-1], values[0]  # to swap first and the last element\n",
    "\n",
    "\n",
    "print('Final list (after swapping first and last element)  :- ')\n",
    "print(values)\n"
   ]
  },
  {
   "cell_type": "code",
   "execution_count": null,
   "metadata": {},
   "outputs": [],
   "source": []
  },
  {
   "cell_type": "markdown",
   "metadata": {
    "colab_type": "text",
    "id": "RYzl6Uxso9NV"
   },
   "source": [
    "### 8. Python Program With removing all duplicate and give the original order reserved in Given List = [12,6,4,7,4,7,67,88,99,355,7887,6,467,88,4,77,8]? (10 Marks)"
   ]
  },
  {
   "cell_type": "code",
   "execution_count": 253,
   "metadata": {},
   "outputs": [
    {
     "name": "stdout",
     "output_type": "stream",
     "text": [
      "Initial array with duplicate values :\n",
      "[12, 6, 4, 7, 4, 7, 67, 88, 99, 355, 7887, 6, 467, 88, 4, 77, 8]\n",
      "\n",
      "Final array ater removing the duplicate values :\n",
      "[12, 6, 4, 7, 67, 88, 99, 355, 7887, 467, 77, 8]\n"
     ]
    }
   ],
   "source": [
    "List = [12,6,4,7,4,7,67,88,99,355,7887,6,467,88,4,77,8]\n",
    "print('Initial array with duplicate values :')\n",
    "print(List)\n",
    "res= []\n",
    "\n",
    "print()\n",
    "for i in List:\n",
    "    if i not in res:\n",
    "        res.append(i)\n",
    "print('Final array ater removing the duplicate values :')  \n",
    "print(res)"
   ]
  },
  {
   "cell_type": "code",
   "execution_count": null,
   "metadata": {},
   "outputs": [],
   "source": []
  },
  {
   "cell_type": "markdown",
   "metadata": {
    "colab_type": "text",
    "id": "RYzl6Uxso9NV"
   },
   "source": [
    "### 9. We have two Sensors in a wind turbine, a and b, and the parameters a_sensor and b_sensor indicate if each has a signal. We are in trouble if they are both ON or if neither of them is ON. Return True if we are in trouble.Test it using a_sensor as True and b_sensor as False (10 Marks)\n",
    "   "
   ]
  },
  {
   "cell_type": "code",
   "execution_count": 258,
   "metadata": {},
   "outputs": [
    {
     "name": "stdout",
     "output_type": "stream",
     "text": [
      " Enter ON/OFF for a_sensor : ON\n",
      " Enter ON/OFF for b_sensor : OFF\n",
      "\n",
      "No Trouble\n"
     ]
    }
   ],
   "source": [
    "def is_trouble(a_sensor, b_sensor):\n",
    "    if (a_sensor == 'ON') and (b_sensor == 'ON'):   # both of them is ON\n",
    "        return True\n",
    "    elif (a_sensor != 'ON') and (b_sensor != 'ON'): # neither of them is ON\n",
    "        return True\n",
    "    else:\n",
    "        return False\n",
    "\n",
    "    \n",
    "a_sensor = str(input(' Enter ON/OFF for a_sensor : '))\n",
    "\n",
    "while(a_sensor not in [ 'ON', 'OFF']):\n",
    "    a_sensor = input(' Invalid entry ! Enter True/False for a_sensor : ')\n",
    "    \n",
    "    if(a_sensor == 'ON' or a_sensor =='OFF'):\n",
    "        break;\n",
    "\n",
    "b_sensor = str(input(' Enter ON/OFF for b_sensor : '))\n",
    "\n",
    "while(b_sensor not in [ 'ON', 'OFF']):\n",
    "    b_sensor = input(' Invalid entry ! Enter ON/OFF for a_sensor : ')\n",
    "    \n",
    "    if(b_sensor == 'ON' or b_sensor =='OFF'):\n",
    "        break;\n",
    "\n",
    "print()\n",
    "out = is_trouble(a_sensor,b_sensor)\n",
    "if out == True:\n",
    "    print('Trouble')\n",
    "else:\n",
    "    print('No Trouble')"
   ]
  }
 ],
 "metadata": {
  "colab": {
   "collapsed_sections": [],
   "name": "ITP_MID_1.ipynb",
   "provenance": []
  },
  "kernelspec": {
   "display_name": "Python 3",
   "language": "python",
   "name": "python3"
  },
  "language_info": {
   "codemirror_mode": {
    "name": "ipython",
    "version": 3
   },
   "file_extension": ".py",
   "mimetype": "text/x-python",
   "name": "python",
   "nbconvert_exporter": "python",
   "pygments_lexer": "ipython3",
   "version": "3.8.5"
  }
 },
 "nbformat": 4,
 "nbformat_minor": 1
}
